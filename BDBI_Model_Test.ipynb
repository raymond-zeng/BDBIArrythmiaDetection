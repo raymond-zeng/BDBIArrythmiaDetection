{
  "nbformat": 4,
  "nbformat_minor": 0,
  "metadata": {
    "colab": {
      "provenance": []
    },
    "kernelspec": {
      "name": "python3",
      "display_name": "Python 3"
    },
    "language_info": {
      "name": "python"
    }
  },
  "cells": [
    {
      "cell_type": "code",
      "execution_count": null,
      "metadata": {
        "id": "wAFf3ljsMvPF"
      },
      "outputs": [],
      "source": [
        "# Imports\n",
        "import os\n",
        "import glob\n",
        "import fnmatch\n",
        "import pandas as pd\n",
        "import numpy as np\n",
        "import librosa #To deal with Audio files\n",
        "import math\n",
        "import tensorflow as tf"
      ]
    },
    {
      "cell_type": "code",
      "source": [
        "from tensorflow.keras.models import Sequential\n",
        "from tensorflow.keras.layers import Dense\n",
        "from tensorflow.keras.models import load_model"
      ],
      "metadata": {
        "id": "nmS6zN6wOx1_"
      },
      "execution_count": null,
      "outputs": []
    },
    {
      "cell_type": "code",
      "source": [
        "\n",
        "# Load the model\n",
        "loaded_model = load_model('heart_sounds.h5')"
      ],
      "metadata": {
        "id": "2HFcRdXDOdMk"
      },
      "execution_count": null,
      "outputs": []
    },
    {
      "cell_type": "code",
      "source": [
        "def preprocessing (file_path, duration=10, sr=22050):\n",
        "  input_length=sr*duration\n",
        "  #print(input_length)\n",
        "  process_file=[]\n",
        "  X, sr = librosa.load(file_path, sr=sr, duration=duration)\n",
        "  dur = librosa.get_duration(y=X, sr=sr)\n",
        "  # pad audio file same duration\n",
        "  print(dur)\n",
        "  if (round(dur) < duration):\n",
        "    y = librosa.util.fix_length(X, size=input_length)\n",
        "  mfccs = np.mean(librosa.feature.mfcc(y=X, sr=sr, n_mfcc=25, n_fft=512,hop_length=2048).T,axis=0)\n",
        "  feature = np.array(mfccs).reshape([-1,1])\n",
        "  process_file.append(feature)\n",
        "  process_file_array = np.asarray(process_file)\n",
        "  return process_file_array"
      ],
      "metadata": {
        "id": "OXYNeIzRPSee"
      },
      "execution_count": null,
      "outputs": []
    },
    {
      "cell_type": "code",
      "source": [
        "x_test = preprocessing(file_path=\"murmur_2.wav\")"
      ],
      "metadata": {
        "colab": {
          "base_uri": "https://localhost:8080/"
        },
        "id": "PLBD70E1PZ2A",
        "outputId": "6abe0076-5e9a-47fb-da07-9b84c77f5ad1"
      },
      "execution_count": null,
      "outputs": [
        {
          "output_type": "stream",
          "name": "stdout",
          "text": [
            "7.935555555555555\n"
          ]
        }
      ]
    },
    {
      "cell_type": "code",
      "source": [
        "x_test"
      ],
      "metadata": {
        "colab": {
          "base_uri": "https://localhost:8080/"
        },
        "id": "cyHI5_nfSTn4",
        "outputId": "953e9771-2294-4dbf-907a-00539a2d3a29"
      },
      "execution_count": null,
      "outputs": [
        {
          "output_type": "execute_result",
          "data": {
            "text/plain": [
              "array([[[-6.1098462e+02],\n",
              "        [ 7.2222206e+01],\n",
              "        [ 6.2598309e+01],\n",
              "        [ 5.1690182e+01],\n",
              "        [ 4.0124908e+01],\n",
              "        [ 3.0522387e+01],\n",
              "        [ 2.3343933e+01],\n",
              "        [ 1.8589703e+01],\n",
              "        [ 1.4987176e+01],\n",
              "        [ 1.1920937e+01],\n",
              "        [ 8.8711157e+00],\n",
              "        [ 5.9646864e+00],\n",
              "        [ 3.2281380e+00],\n",
              "        [ 1.0553153e+00],\n",
              "        [-4.3253544e-01],\n",
              "        [-1.1371146e+00],\n",
              "        [-1.2943422e+00],\n",
              "        [-1.0389589e+00],\n",
              "        [-6.5127409e-01],\n",
              "        [-2.3562264e-01],\n",
              "        [ 1.2949535e-01],\n",
              "        [ 5.8426023e-01],\n",
              "        [ 1.1288197e+00],\n",
              "        [ 1.7301558e+00],\n",
              "        [ 2.2043462e+00]]], dtype=float32)"
            ]
          },
          "metadata": {},
          "execution_count": 38
        }
      ]
    },
    {
      "cell_type": "code",
      "source": [
        "y_pred = np.asarray(loaded_model.predict(x_test, batch_size=32))\n",
        "y_pred = np.argmax(y_pred,axis=1)"
      ],
      "metadata": {
        "colab": {
          "base_uri": "https://localhost:8080/"
        },
        "id": "xPyxjVHSQJAt",
        "outputId": "4504b384-6555-47c1-c37e-5bd769771323"
      },
      "execution_count": null,
      "outputs": [
        {
          "output_type": "stream",
          "name": "stdout",
          "text": [
            "1/1 [==============================] - 0s 47ms/step\n"
          ]
        }
      ]
    },
    {
      "cell_type": "code",
      "source": [
        "y_pred"
      ],
      "metadata": {
        "colab": {
          "base_uri": "https://localhost:8080/"
        },
        "id": "nk1t_fEETbGO",
        "outputId": "4e1a6fa6-bf6f-4a6e-c130-4a652849514b"
      },
      "execution_count": null,
      "outputs": [
        {
          "output_type": "execute_result",
          "data": {
            "text/plain": [
              "array([1])"
            ]
          },
          "metadata": {},
          "execution_count": 40
        }
      ]
    },
    {
      "cell_type": "code",
      "source": [],
      "metadata": {
        "id": "3fSHWnU_TcPo"
      },
      "execution_count": null,
      "outputs": []
    }
  ]
}